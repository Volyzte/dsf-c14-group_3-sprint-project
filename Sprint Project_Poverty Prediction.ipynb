{
 "cells": [
  {
   "cell_type": "markdown",
   "metadata": {
    "id": "oVOxxZyTrcCr"
   },
   "source": [
    "# Sprint Project: Data Preprocessing\n",
    "Prepared by `Kuhgi Jotojot`"
   ]
  },
  {
   "cell_type": "markdown",
   "metadata": {
    "id": "H0UeDvpKlUzy"
   },
   "source": [
    "## Prerequisites"
   ]
  },
  {
   "cell_type": "code",
   "execution_count": 302,
   "metadata": {},
   "outputs": [],
   "source": [
    "# pip install scikit-learn"
   ]
  },
  {
   "cell_type": "code",
   "execution_count": 303,
   "metadata": {},
   "outputs": [],
   "source": [
    "# pip install pandas"
   ]
  },
  {
   "cell_type": "code",
   "execution_count": 304,
   "metadata": {
    "executionInfo": {
     "elapsed": 1147,
     "status": "ok",
     "timestamp": 1744653727316,
     "user": {
      "displayName": "Douglas Vault",
      "userId": "15212913803761564128"
     },
     "user_tz": -480
    },
    "id": "nxieF6k8sMEM"
   },
   "outputs": [],
   "source": [
    "# general libraries\n",
    "import time\n",
    "import warnings\n",
    "import numpy as np\n",
    "import pandas as pd\n",
    "\n",
    "# OneHotEncoder\n",
    "from sklearn.preprocessing import OneHotEncoder"
   ]
  },
  {
   "cell_type": "code",
   "execution_count": 305,
   "metadata": {
    "executionInfo": {
     "elapsed": 1614,
     "status": "ok",
     "timestamp": 1744653728921,
     "user": {
      "displayName": "Douglas Vault",
      "userId": "15212913803761564128"
     },
     "user_tz": -480
    },
    "id": "9yRdFcyQx6iv"
   },
   "outputs": [],
   "source": [
    "# OneHotEncoder for categorical data\n",
    "from sklearn.preprocessing import OneHotEncoder"
   ]
  },
  {
   "cell_type": "code",
   "execution_count": 306,
   "metadata": {
    "colab": {
     "base_uri": "https://localhost:8080/",
     "height": 427
    },
    "executionInfo": {
     "elapsed": 2596,
     "status": "ok",
     "timestamp": 1744653757540,
     "user": {
      "displayName": "Douglas Vault",
      "userId": "15212913803761564128"
     },
     "user_tz": -480
    },
    "id": "ZgYD68FRue9q",
    "outputId": "ad158546-33e9-4a1e-eb80-5083afe54b43"
   },
   "outputs": [
    {
     "data": {
      "text/html": [
       "<div>\n",
       "<style scoped>\n",
       "    .dataframe tbody tr th:only-of-type {\n",
       "        vertical-align: middle;\n",
       "    }\n",
       "\n",
       "    .dataframe tbody tr th {\n",
       "        vertical-align: top;\n",
       "    }\n",
       "\n",
       "    .dataframe thead th {\n",
       "        text-align: right;\n",
       "    }\n",
       "</style>\n",
       "<table border=\"1\" class=\"dataframe\">\n",
       "  <thead>\n",
       "    <tr style=\"text-align: right;\">\n",
       "      <th></th>\n",
       "      <th>Total Household Income</th>\n",
       "      <th>Region</th>\n",
       "      <th>Total Food Expenditure</th>\n",
       "      <th>Main Source of Income</th>\n",
       "      <th>Agricultural Household indicator</th>\n",
       "      <th>Bread and Cereals Expenditure</th>\n",
       "      <th>Total Rice Expenditure</th>\n",
       "      <th>Meat Expenditure</th>\n",
       "      <th>Total Fish and  marine products Expenditure</th>\n",
       "      <th>Fruit Expenditure</th>\n",
       "      <th>...</th>\n",
       "      <th>Number of Refrigerator/Freezer</th>\n",
       "      <th>Number of Washing Machine</th>\n",
       "      <th>Number of Airconditioner</th>\n",
       "      <th>Number of Car, Jeep, Van</th>\n",
       "      <th>Number of Landline/wireless telephones</th>\n",
       "      <th>Number of Cellular phone</th>\n",
       "      <th>Number of Personal Computer</th>\n",
       "      <th>Number of Stove with Oven/Gas Range</th>\n",
       "      <th>Number of Motorized Banca</th>\n",
       "      <th>Number of Motorcycle/Tricycle</th>\n",
       "    </tr>\n",
       "  </thead>\n",
       "  <tbody>\n",
       "    <tr>\n",
       "      <th>0</th>\n",
       "      <td>11285</td>\n",
       "      <td>VII - Central Visayas</td>\n",
       "      <td>14709</td>\n",
       "      <td>Other sources of Income</td>\n",
       "      <td>1</td>\n",
       "      <td>4690</td>\n",
       "      <td>91</td>\n",
       "      <td>248</td>\n",
       "      <td>1759</td>\n",
       "      <td>236</td>\n",
       "      <td>...</td>\n",
       "      <td>0</td>\n",
       "      <td>0</td>\n",
       "      <td>0</td>\n",
       "      <td>0</td>\n",
       "      <td>0</td>\n",
       "      <td>0</td>\n",
       "      <td>0</td>\n",
       "      <td>0</td>\n",
       "      <td>0</td>\n",
       "      <td>0</td>\n",
       "    </tr>\n",
       "    <tr>\n",
       "      <th>1</th>\n",
       "      <td>11988</td>\n",
       "      <td>CAR</td>\n",
       "      <td>6781</td>\n",
       "      <td>Other sources of Income</td>\n",
       "      <td>0</td>\n",
       "      <td>4175</td>\n",
       "      <td>4175</td>\n",
       "      <td>930</td>\n",
       "      <td>360</td>\n",
       "      <td>581</td>\n",
       "      <td>...</td>\n",
       "      <td>0</td>\n",
       "      <td>0</td>\n",
       "      <td>0</td>\n",
       "      <td>0</td>\n",
       "      <td>0</td>\n",
       "      <td>0</td>\n",
       "      <td>0</td>\n",
       "      <td>0</td>\n",
       "      <td>0</td>\n",
       "      <td>0</td>\n",
       "    </tr>\n",
       "    <tr>\n",
       "      <th>2</th>\n",
       "      <td>12039</td>\n",
       "      <td>V - Bicol Region</td>\n",
       "      <td>9465</td>\n",
       "      <td>Other sources of Income</td>\n",
       "      <td>0</td>\n",
       "      <td>3176</td>\n",
       "      <td>3041</td>\n",
       "      <td>150</td>\n",
       "      <td>1410</td>\n",
       "      <td>336</td>\n",
       "      <td>...</td>\n",
       "      <td>0</td>\n",
       "      <td>0</td>\n",
       "      <td>0</td>\n",
       "      <td>0</td>\n",
       "      <td>0</td>\n",
       "      <td>0</td>\n",
       "      <td>0</td>\n",
       "      <td>0</td>\n",
       "      <td>0</td>\n",
       "      <td>0</td>\n",
       "    </tr>\n",
       "    <tr>\n",
       "      <th>3</th>\n",
       "      <td>12141</td>\n",
       "      <td>II - Cagayan Valley</td>\n",
       "      <td>6500</td>\n",
       "      <td>Other sources of Income</td>\n",
       "      <td>0</td>\n",
       "      <td>1851</td>\n",
       "      <td>1140</td>\n",
       "      <td>1310</td>\n",
       "      <td>1318</td>\n",
       "      <td>330</td>\n",
       "      <td>...</td>\n",
       "      <td>0</td>\n",
       "      <td>0</td>\n",
       "      <td>0</td>\n",
       "      <td>0</td>\n",
       "      <td>0</td>\n",
       "      <td>0</td>\n",
       "      <td>0</td>\n",
       "      <td>0</td>\n",
       "      <td>0</td>\n",
       "      <td>0</td>\n",
       "    </tr>\n",
       "    <tr>\n",
       "      <th>4</th>\n",
       "      <td>12911</td>\n",
       "      <td>VII - Central Visayas</td>\n",
       "      <td>15909</td>\n",
       "      <td>Enterpreneurial Activities</td>\n",
       "      <td>1</td>\n",
       "      <td>6716</td>\n",
       "      <td>96</td>\n",
       "      <td>1030</td>\n",
       "      <td>3316</td>\n",
       "      <td>285</td>\n",
       "      <td>...</td>\n",
       "      <td>0</td>\n",
       "      <td>0</td>\n",
       "      <td>0</td>\n",
       "      <td>0</td>\n",
       "      <td>0</td>\n",
       "      <td>0</td>\n",
       "      <td>0</td>\n",
       "      <td>0</td>\n",
       "      <td>0</td>\n",
       "      <td>0</td>\n",
       "    </tr>\n",
       "  </tbody>\n",
       "</table>\n",
       "<p>5 rows × 60 columns</p>\n",
       "</div>"
      ],
      "text/plain": [
       "   Total Household Income                 Region  Total Food Expenditure  \\\n",
       "0                   11285  VII - Central Visayas                   14709   \n",
       "1                   11988                    CAR                    6781   \n",
       "2                   12039       V - Bicol Region                    9465   \n",
       "3                   12141    II - Cagayan Valley                    6500   \n",
       "4                   12911  VII - Central Visayas                   15909   \n",
       "\n",
       "        Main Source of Income  Agricultural Household indicator  \\\n",
       "0     Other sources of Income                                 1   \n",
       "1     Other sources of Income                                 0   \n",
       "2     Other sources of Income                                 0   \n",
       "3     Other sources of Income                                 0   \n",
       "4  Enterpreneurial Activities                                 1   \n",
       "\n",
       "   Bread and Cereals Expenditure  Total Rice Expenditure  Meat Expenditure  \\\n",
       "0                           4690                      91               248   \n",
       "1                           4175                    4175               930   \n",
       "2                           3176                    3041               150   \n",
       "3                           1851                    1140              1310   \n",
       "4                           6716                      96              1030   \n",
       "\n",
       "   Total Fish and  marine products Expenditure  Fruit Expenditure  ...  \\\n",
       "0                                         1759                236  ...   \n",
       "1                                          360                581  ...   \n",
       "2                                         1410                336  ...   \n",
       "3                                         1318                330  ...   \n",
       "4                                         3316                285  ...   \n",
       "\n",
       "   Number of Refrigerator/Freezer  Number of Washing Machine  \\\n",
       "0                               0                          0   \n",
       "1                               0                          0   \n",
       "2                               0                          0   \n",
       "3                               0                          0   \n",
       "4                               0                          0   \n",
       "\n",
       "   Number of Airconditioner  Number of Car, Jeep, Van  \\\n",
       "0                         0                         0   \n",
       "1                         0                         0   \n",
       "2                         0                         0   \n",
       "3                         0                         0   \n",
       "4                         0                         0   \n",
       "\n",
       "   Number of Landline/wireless telephones  Number of Cellular phone  \\\n",
       "0                                       0                         0   \n",
       "1                                       0                         0   \n",
       "2                                       0                         0   \n",
       "3                                       0                         0   \n",
       "4                                       0                         0   \n",
       "\n",
       "   Number of Personal Computer  Number of Stove with Oven/Gas Range  \\\n",
       "0                            0                                    0   \n",
       "1                            0                                    0   \n",
       "2                            0                                    0   \n",
       "3                            0                                    0   \n",
       "4                            0                                    0   \n",
       "\n",
       "   Number of Motorized Banca  Number of Motorcycle/Tricycle  \n",
       "0                          0                              0  \n",
       "1                          0                              0  \n",
       "2                          0                              0  \n",
       "3                          0                              0  \n",
       "4                          0                              0  \n",
       "\n",
       "[5 rows x 60 columns]"
      ]
     },
     "execution_count": 306,
     "metadata": {},
     "output_type": "execute_result"
    }
   ],
   "source": [
    "df = pd.read_csv('data/Family Income and Expenditure.csv')\n",
    "df.head()"
   ]
  },
  {
   "cell_type": "markdown",
   "metadata": {
    "id": "BFpKaLSvmlif"
   },
   "source": [
    "## Data Cleaning"
   ]
  },
  {
   "cell_type": "markdown",
   "metadata": {
    "id": "lvYyJ1wzvNus"
   },
   "source": [
    "### 1. Dropping Duplicates"
   ]
  },
  {
   "cell_type": "code",
   "execution_count": 307,
   "metadata": {
    "executionInfo": {
     "elapsed": 148,
     "status": "ok",
     "timestamp": 1744653997827,
     "user": {
      "displayName": "Douglas Vault",
      "userId": "15212913803761564128"
     },
     "user_tz": -480
    },
    "id": "k3siQGuavSpq"
   },
   "outputs": [],
   "source": [
    "df = df.drop_duplicates()"
   ]
  },
  {
   "cell_type": "markdown",
   "metadata": {
    "id": "pBkK8k5rxqt_"
   },
   "source": [
    "### 2. Structural Fix (Renaming Column Names)"
   ]
  },
  {
   "cell_type": "code",
   "execution_count": 308,
   "metadata": {
    "executionInfo": {
     "elapsed": 124,
     "status": "ok",
     "timestamp": 1744653997960,
     "user": {
      "displayName": "Douglas Vault",
      "userId": "15212913803761564128"
     },
     "user_tz": -480
    },
    "id": "5E3tHf_imo8F"
   },
   "outputs": [],
   "source": [
    "for col in df.columns:\n",
    "  new_col = col.replace(' ', '_')\n",
    "  df.rename(columns={col:new_col}, inplace=True)"
   ]
  },
  {
   "cell_type": "markdown",
   "metadata": {
    "id": "5vSm4kvjlEME"
   },
   "source": [
    "### 3. Structural Fix (Substituting Null Values)"
   ]
  },
  {
   "cell_type": "code",
   "execution_count": 309,
   "metadata": {
    "executionInfo": {
     "elapsed": 4,
     "status": "ok",
     "timestamp": 1744653997969,
     "user": {
      "displayName": "Douglas Vault",
      "userId": "15212913803761564128"
     },
     "user_tz": -480
    },
    "id": "ep9dQaKmnH9Y"
   },
   "outputs": [],
   "source": [
    "value = \"No Occupation\"\n",
    "df['Household_Head_Occupation'] = df['Household_Head_Occupation'].fillna(value)"
   ]
  },
  {
   "cell_type": "code",
   "execution_count": 310,
   "metadata": {
    "executionInfo": {
     "elapsed": 1,
     "status": "ok",
     "timestamp": 1744653997974,
     "user": {
      "displayName": "Douglas Vault",
      "userId": "15212913803761564128"
     },
     "user_tz": -480
    },
    "id": "ZWDfvkKCrrNJ"
   },
   "outputs": [],
   "source": [
    "value = \"Not Employed\"\n",
    "df['Household_Head_Class_of_Worker'] = df['Household_Head_Class_of_Worker'].fillna(value)"
   ]
  },
  {
   "cell_type": "code",
   "execution_count": 311,
   "metadata": {
    "executionInfo": {
     "elapsed": 1,
     "status": "ok",
     "timestamp": 1744653997976,
     "user": {
      "displayName": "Douglas Vault",
      "userId": "15212913803761564128"
     },
     "user_tz": -480
    },
    "id": "NYr6QP0arrhb"
   },
   "outputs": [],
   "source": [
    "value = \"No Toilet Facilities\"\n",
    "df['Toilet_Facilities'] = df['Toilet_Facilities'].fillna(value)"
   ]
  },
  {
   "cell_type": "markdown",
   "metadata": {},
   "source": [
    "### 4. Fixing Misspelling in Categories"
   ]
  },
  {
   "cell_type": "code",
   "execution_count": 312,
   "metadata": {},
   "outputs": [],
   "source": [
    "df['Main_Source_of_Income'] = df['Main_Source_of_Income'].map({'Enterpreneurial Activities': 'Entrepreneurial Activities'})\n",
    "df['Household_Head_Class_of_Worker'] = df['Household_Head_Class_of_Worker'].map({'Self-employed wihout any employee': 'Self-employed without any employee'})\n",
    "df['Type_of_Walls'] = df['Type_of_Walls'].map({'NOt applicable': 'Not Applicable'})"
   ]
  },
  {
   "cell_type": "markdown",
   "metadata": {
    "id": "01fWKeX7maqV"
   },
   "source": [
    "## Categorical Fields Processing"
   ]
  },
  {
   "cell_type": "code",
   "execution_count": 313,
   "metadata": {},
   "outputs": [],
   "source": [
    "# Getting all object fields in df (categorical feature)\n",
    "object_fields = df.select_dtypes(include=['object']).columns.tolist()"
   ]
  },
  {
   "cell_type": "code",
   "execution_count": 314,
   "metadata": {},
   "outputs": [
    {
     "data": {
      "text/html": [
       "<div>\n",
       "<style scoped>\n",
       "    .dataframe tbody tr th:only-of-type {\n",
       "        vertical-align: middle;\n",
       "    }\n",
       "\n",
       "    .dataframe tbody tr th {\n",
       "        vertical-align: top;\n",
       "    }\n",
       "\n",
       "    .dataframe thead th {\n",
       "        text-align: right;\n",
       "    }\n",
       "</style>\n",
       "<table border=\"1\" class=\"dataframe\">\n",
       "  <thead>\n",
       "    <tr style=\"text-align: right;\">\n",
       "      <th></th>\n",
       "      <th>Field</th>\n",
       "      <th>Number_of_Categories</th>\n",
       "    </tr>\n",
       "  </thead>\n",
       "  <tbody>\n",
       "    <tr>\n",
       "      <th>0</th>\n",
       "      <td>Region</td>\n",
       "      <td>17</td>\n",
       "    </tr>\n",
       "    <tr>\n",
       "      <th>4</th>\n",
       "      <td>Household_Head_Highest_Grade_Completed</td>\n",
       "      <td>46</td>\n",
       "    </tr>\n",
       "    <tr>\n",
       "      <th>6</th>\n",
       "      <td>Household_Head_Occupation</td>\n",
       "      <td>379</td>\n",
       "    </tr>\n",
       "    <tr>\n",
       "      <th>14</th>\n",
       "      <td>Main_Source_of_Water_Supply</td>\n",
       "      <td>11</td>\n",
       "    </tr>\n",
       "  </tbody>\n",
       "</table>\n",
       "</div>"
      ],
      "text/plain": [
       "                                     Field  Number_of_Categories\n",
       "0                                   Region                    17\n",
       "4   Household_Head_Highest_Grade_Completed                    46\n",
       "6                Household_Head_Occupation                   379\n",
       "14             Main_Source_of_Water_Supply                    11"
      ]
     },
     "execution_count": 314,
     "metadata": {},
     "output_type": "execute_result"
    }
   ],
   "source": [
    "# Create a dictionary to store field names and their category counts\n",
    "category_counts = {field: df[field].nunique() for field in object_fields}\n",
    "\n",
    "# Convert the dictionary into a DataFrame\n",
    "category_counts_df = pd.DataFrame(list(category_counts.items()), columns=['Field', 'Number_of_Categories'])\n",
    "\n",
    "# Display the resulting DataFrame\n",
    "category_counts_df[category_counts_df['Number_of_Categories'] >= 10]"
   ]
  },
  {
   "cell_type": "markdown",
   "metadata": {},
   "source": [
    "### Plan for Categorical Values\n",
    "\n",
    "* Region - Mean Encoding (Average the household income per region. Make that as the region feature instead [Average_Income_per_Capita])\n",
    "* Household Head Highest Grade Completed - feature hashing  and then OneHotEncode\n",
    "* Household_Head_Occupation - Feature Hashing and then Mean Encoding (Average the occupational income per occupation. Make that as the occupation feature instead [Average_Income_per_Occupation_Group])\n",
    "* Main_Source_of_Water_Supply - Generalization to 6 categories and then OneHotEncode"
   ]
  },
  {
   "cell_type": "markdown",
   "metadata": {},
   "source": [
    "### 1. Region -> Average Income per Capita"
   ]
  },
  {
   "cell_type": "code",
   "execution_count": 315,
   "metadata": {},
   "outputs": [],
   "source": [
    "total_income_per_region = df.groupby('Region')['Total_Household_Income'].mean().reset_index()\n",
    "total_income_per_region.columns = ['Region', 'Average_Income_per_Capita']\n",
    "total_income_per_region['Average_Income_per_Capita'] = total_income_per_region['Average_Income_per_Capita'].round(2)\n",
    "region_income_dict = total_income_per_region.set_index('Region')['Average_Income_per_Capita'].to_dict()\n",
    "df['Average_Income_per_Capita'] = df['Region'].map(region_income_dict)"
   ]
  },
  {
   "cell_type": "markdown",
   "metadata": {},
   "source": [
    "### 2. Main_Source_of_Water_Supply Generalization"
   ]
  },
  {
   "cell_type": "code",
   "execution_count": 316,
   "metadata": {},
   "outputs": [],
   "source": [
    "# Generalize the categories for 'Main_Source_of_Water_Supply'\n",
    "water_supply_mapping = {\n",
    "    'Dug well': 'Well',\n",
    "    'Protected spring, river, stream, etc': 'Natural Source',\n",
    "    'Shared, tubed/piped deep well': 'Shared Source',\n",
    "    'Shared, faucet, community water system': 'Shared Source',\n",
    "    'Unprotected spring, river, stream, etc': 'Natural Source',\n",
    "    'Own use, faucet, community water system': 'Private Source',\n",
    "    'Own use, tubed/piped deep well': 'Private Source',\n",
    "    'Tubed/piped shallow well': 'Well',\n",
    "    'Lake, river, rain and others': 'Natural Source',\n",
    "    'Peddler': 'Peddler',\n",
    "    'Others': 'Other'\n",
    "}\n",
    "\n",
    "# Apply the mapping to the column\n",
    "df['Main_Source_of_Water_Supply'] = df['Main_Source_of_Water_Supply'].map(water_supply_mapping)"
   ]
  },
  {
   "cell_type": "markdown",
   "metadata": {},
   "source": [
    "### 3. Household_Head_Occupation -> Average Incomer per Occupation Group"
   ]
  },
  {
   "cell_type": "code",
   "execution_count": 317,
   "metadata": {},
   "outputs": [],
   "source": [
    "# Final integrated occupation mapping function with all provided classifications\n",
    "def map_occupation_category_final(occupation):\n",
    "    if pd.isnull(occupation):\n",
    "        return \"Unspecified\"\n",
    "\n",
    "    occupation = occupation.lower()\n",
    "\n",
    "    if any(keyword in occupation for keyword in [\n",
    "        \"teacher\", \"professor\", \"educat\", \"instructor\", \"school principal\",\n",
    "        \"science and mathematics teaching\", \"other teaching professionals\",\n",
    "        \"other social science professionals\", \"accountant\", \"auditor\", \"architect\",\n",
    "        \"appraiser\", \"valuer\", \"other business professionals\"\n",
    "    ]):\n",
    "        return \"Professionals\"\n",
    "\n",
    "    elif any(keyword in occupation for keyword in [\n",
    "        \"engineer\", \"chemist\", \"scientist\", \"r&d\", \"development\", \"technologist\",\n",
    "        \"research\", \"geodetic\", \"economist\", \"statistician\", \"draftsman\", \"planner\",\n",
    "        \"programmer\", \"computer professional\"\n",
    "    ]):\n",
    "        return \"Science & Engineering\"\n",
    "\n",
    "    elif any(keyword in occupation for keyword in [\n",
    "        \"technician\", \"tech\", \"associate\", \"assistant\", \"midwife\", \"nutritionist\",\n",
    "        \"draftsmen\", \"computer assistant\", \"library\", \"librarian\", \"lab\",\n",
    "        \"building and fire inspector\"\n",
    "    ]):\n",
    "        return \"Technicians and Associate Professionals\"\n",
    "\n",
    "    elif any(keyword in occupation for keyword in [\n",
    "        \"farmer\", \"fisher\", \"fish-farm\", \"seaweed\", \"livestock\", \"agricultur\", \"forester\",\n",
    "        \"horticulturist\", \"planter\", \"duck raiser\", \"ornamental plant grower\", \"trapper\",\n",
    "        \"animal raiser\", \"minor forest\", \"plant grower\", \"aqua products cultivator\"\n",
    "    ]):\n",
    "        return \"Agricultural, Forestry & Fishery Workers\"\n",
    "\n",
    "    elif any(keyword in occupation for keyword in [\n",
    "        \"carpenter\", \"plumber\", \"electrician\", \"welder\", \"mechanic\", \"mason\", \"blacksmith\",\n",
    "        \"construction\", \"craft\", \"fitter\", \"assembler\", \"tailor\", \"sewer\", \"textile\", \"shoemaker\",\n",
    "        \"upholster\", \"cabinet\", \"repairer\", \"molder\", \"coremaker\", \"grinder\", \"polisher\", \"coater\",\n",
    "        \"roofer\", \"floor layer\", \"tile setter\", \"glass\", \"woodworker\", \"bookbinder\", \"metal drawer\",\n",
    "        \"metal worker\", \"jewelry\", \"stone splitter\", \"potter\", \"tanner\", \"leather\", \"weaver\", \"bamboo\",\n",
    "        \"rattan\", \"insulation\", \"pressman\", \"block\", \"screen\", \"printer\", \"food preserver\", \"dairy products maker\",\n",
    "        \"tobacco preparer\", \"builder\", \"charcoal maker\", \"tool-maker\", \"musical instrument maker\", \"wood treater\",\n",
    "        \"compositor\", \"typesetter\", \"furniture maker\", \"varnisher\", \"painter\", \"structural-metal preparer\",\n",
    "        \"food and beverage taster\", \"building frame and related trades\", \"miners and quarry workers\", \"fiber preparers\"\n",
    "    ]):\n",
    "        return \"Craft and Related Trades Workers\"\n",
    "\n",
    "    elif any(keyword in occupation for keyword in [\n",
    "        \"driver\", \"operator\", \"assembler\", \"machine\", \"truck\", \"crane\", \"loader\", \"hoist\",\n",
    "        \"tractor\", \"vehicle\", \"pilot\", \"deck officer\", \"plant operator\", \"production machine\",\n",
    "        \"ship\", \"transport conductor\", \"lineman\", \"cable splicer\", \"well driller\", \"rigger\", \"blaster\"\n",
    "    ]):\n",
    "        return \"Plant & Machine Operators\"\n",
    "\n",
    "    elif any(keyword in occupation for keyword in [\n",
    "        \"laborer\", \"helper\", \"vendor\", \"cleaner\", \"sweeper\", \"collector\", \"launderer\", \"packer\",\n",
    "        \"janitor\", \"caretaker\", \"watchperson\", \"door-to-door\", \"messenger\", \"porter\", \"housekeeper\",\n",
    "        \"freight handler\", \"shoe cleaning\", \"elementary occupation\"\n",
    "    ]):\n",
    "        return \"Elementary Occupations\"\n",
    "\n",
    "    elif any(keyword in occupation for keyword in [\n",
    "        \"manager\", \"executive\", \"chief\", \"director\", \"administrator\", \"supervisor\", \"proprietor\",\n",
    "        \"head\", \"staff officer\", \"government official\", \"officer\", \"licensing\", \"commanding\",\n",
    "        \"justices\", \"legislative official\", \"social benefits official\", \"senior official\",\n",
    "        \"government tax and excise\"\n",
    "    ]):\n",
    "        return \"Managers\"\n",
    "\n",
    "    elif any(keyword in occupation for keyword in [\n",
    "        \"clerk\", \"secretary\", \"bookkeeper\", \"typist\", \"cashier\", \"teller\", \"encoder\",\n",
    "        \"receptionist\", \"mail carrier\", \"information clerk\", \"word processor\", \"secretaries\"\n",
    "    ]):\n",
    "        return \"Clerical Support Workers\"\n",
    "\n",
    "    elif any(keyword in occupation for keyword in [\n",
    "        \"sales\", \"waiter\", \"bartender\", \"beautician\", \"hairdresser\", \"concessionaire\",\n",
    "        \"service worker\", \"guide\", \"valet\", \"cook\", \"butcher\", \"fishmonger\", \"baker\", \"vendor\",\n",
    "        \"housekeeper\", \"personal care\", \"caregiver\", \"attendant\", \"bookmaker\", \"croupier\",\n",
    "        \"estate agent\", \"insurance representative\", \"buyer\", \"travel consultant\", \"trade broker\",\n",
    "        \"child care\", \"undertaker\", \"embalmer\", \"pawnbroker\", \"personal services\", \"service and related workers\"\n",
    "    ]):\n",
    "        return \"Service and Sales Workers\"\n",
    "\n",
    "    elif any(keyword in occupation for keyword in [\n",
    "        \"artist\", \"musician\", \"composer\", \"dancer\", \"designer\", \"photographer\", \"sculptor\",\n",
    "        \"model\", \"performer\", \"writer\", \"journalist\", \"radio\", \"announcer\", \"athletes and related workers\", \"photographic and related workers\"\n",
    "    ]):\n",
    "        return \"Creative, Arts & Media\"\n",
    "\n",
    "    elif any(keyword in occupation for keyword in [\n",
    "        \"police\", \"soldier\", \"military\", \"guard\", \"firefighter\", \"uniformed\", \"combat\",\n",
    "        \"prison\", \"customs\", \"immigration\", \"detective\", \"protective services\", \"enlisted personnel\"\n",
    "    ]):\n",
    "        return \"Armed Forces & Uniformed Personnel\"\n",
    "\n",
    "    elif any(keyword in occupation for keyword in [\n",
    "        \"lawyer\", \"doctor\", \"nurse\", \"dentist\", \"pharmacist\", \"therapist\", \"optician\",\n",
    "        \"midwife\", \"medical\", \"health professional\", \"dietitian\", \"veterinarian\",\n",
    "        \"faith healer\", \"traditional medicine\", \"religious\", \"social worker\", \"professional midwives\", \"social work professionals\"\n",
    "    ]):\n",
    "        return \"Health & Legal Professionals\"\n",
    "\n",
    "    else:\n",
    "        return \"Other / Unclassified\"\n"
   ]
  },
  {
   "cell_type": "code",
   "execution_count": 318,
   "metadata": {},
   "outputs": [],
   "source": [
    "df[\"Household_Head_Occupation\"] = df[\"Household_Head_Occupation\"].apply(map_occupation_category_final)"
   ]
  },
  {
   "cell_type": "code",
   "execution_count": 319,
   "metadata": {},
   "outputs": [],
   "source": [
    "total_income_per_occupation_group = df.groupby('Household_Head_Occupation')['Total_Household_Income'].mean().reset_index()\n",
    "total_income_per_occupation_group.columns = ['Occupation Group', 'Average_Income_per_Occupation_Group']\n",
    "total_income_per_occupation_group['Average_Income_per_Occupation_Group'] = total_income_per_occupation_group['Average_Income_per_Occupation_Group'].round(2)\n",
    "occupation_group_income_dict = total_income_per_occupation_group.set_index('Occupation Group')['Average_Income_per_Occupation_Group'].to_dict()\n",
    "occupation_group_income_dict\n",
    "\n",
    "df['Average_Income_per_Occupation_Group'] = df['Household_Head_Occupation'].map(occupation_group_income_dict)"
   ]
  },
  {
   "cell_type": "markdown",
   "metadata": {},
   "source": [
    "### 4. Household_Head_Highest_Grade_Completed Features Hashing"
   ]
  },
  {
   "cell_type": "code",
   "execution_count": 320,
   "metadata": {},
   "outputs": [],
   "source": [
    "education_mapping = {\n",
    "    # No education\n",
    "    \"No Grade Completed\": \"No Formal Education\",\n",
    "\n",
    "    # Preschool & Elementary\n",
    "    \"Preschool\": \"Preschool/Elementary\",\n",
    "    \"Grade 1\": \"Preschool/Elementary\",\n",
    "    \"Grade 2\": \"Preschool/Elementary\",\n",
    "    \"Grade 3\": \"Preschool/Elementary\",\n",
    "    \"Grade 4\": \"Preschool/Elementary\",\n",
    "    \"Grade 5\": \"Preschool/Elementary\",\n",
    "    \"Grade 6\": \"Preschool/Elementary\",\n",
    "    \"Elementary Graduate\": \"Preschool/Elementary\",\n",
    "\n",
    "    # High School (Incomplete and Graduate)\n",
    "    \"First Year High School\": \"High School\",\n",
    "    \"Second Year High School\": \"High School\",\n",
    "    \"Third Year High School\": \"High School\",\n",
    "    \"High School Graduate\": \"High School\",\n",
    "\n",
    "    # I will assume these two as high school graduate in order to reduce the categories\n",
    "    \"Other Programs of Education at the Third Level, First Stage, of the Type that Leads to a Baccalaureate or First University/Professional Degree (Higher Education Level, First Stage, or Collegiate Education Level)\": \"High School\",\n",
    "    \"Other Programs in Education at the Third Level, First Stage, of the Type that Leads to an Award not Equivalent to a First University or Baccalaureate Degree\": \"High School\",\n",
    "\n",
    "    # College years\n",
    "    \"First Year College\": \"College\",\n",
    "    \"Second Year College\": \"College\",\n",
    "    \"Third Year College\": \"College\",\n",
    "    \"Fourth Year College\": \"College\",\n",
    "\n",
    "    # Post-secondary non-degree\n",
    "    \"First Year Post Secondary\": \"Post-Secondary (Non-Degree)\",\n",
    "    \"Second Year Post Secondary\": \"Post-Secondary (Non-Degree)\",\n",
    "\n",
    "    # College graduate or higher\n",
    "    \"Post Baccalaureate\": \"College\",\n",
    "    \"Other Programs of Education at the Third Level, First Stage, of the Type that Leads to a Baccalaureate or First University/Professional Degree (Higher Education Level, First Stage, or Collegiate Education Level)\": \"College Graduate\",\n",
    "    \"Other Programs in Education at the Third Level, First Stage, of the Type that Leads to an Award not Equivalent to a First University or Baccalaureate Degree\": \"College Graduate\",\n",
    "\n",
    "    # General tertiary fields\n",
    "    \"Teacher Training and Education Sciences Programs\": \"Tertiary (General)\",\n",
    "    \"Business and Administration Programs\": \"Tertiary (General)\",\n",
    "    \"Humanities Programs\": \"Tertiary (General)\",\n",
    "    \"Social and Behavioral Science Programs\": \"Tertiary (General)\",\n",
    "    \"Mathematics and Statistics Programs\": \"Tertiary (General)\",\n",
    "    \"Arts Programs\": \"Tertiary (General)\",\n",
    "    \"Law Programs\": \"Tertiary (General)\",\n",
    "    \"Social Services Programs\": \"Tertiary (General)\",\n",
    "    \"Journalism and Information Programs\": \"Tertiary (General)\",\n",
    "    \"Basic Programs\": \"Tertiary (General)\",\n",
    "\n",
    "    # STEM/Technical fields\n",
    "    \"Engineering and Engineering Trades Programs\": \"Tertiary (STEM/Tech)\",\n",
    "    \"Engineering and Engineering trades Programs\": \"Tertiary (STEM/Tech)\",\n",
    "    \"Health Programs\": \"Tertiary (STEM/Tech)\",\n",
    "    \"Veterinary Programs\": \"Tertiary (STEM/Tech)\",\n",
    "    \"Agriculture, Forestry, and Fishery Programs\": \"Tertiary (STEM/Tech)\",\n",
    "    \"Life Sciences Programs\": \"Tertiary (STEM/Tech)\",\n",
    "    \"Physical Sciences Programs\": \"Tertiary (STEM/Tech)\",\n",
    "    \"Architecture and Building Programs\": \"Tertiary (STEM/Tech)\",\n",
    "    \"Manufacturing and Processing Programs\": \"Tertiary (STEM/Tech)\",\n",
    "    \"Environmental Protection Programs\": \"Tertiary (STEM/Tech)\",\n",
    "\n",
    "    # Vocational/Technical Services\n",
    "    \"Security Services Programs\": \"Vocational/Technical\",\n",
    "    \"Personal Services Programs\": \"Vocational/Technical\",\n",
    "    \"Transport Services Programs\": \"Vocational/Technical\",\n",
    "}\n",
    "\n",
    "df[\"Household_Head_Highest_Grade_Completed\"] = df[\"Household_Head_Highest_Grade_Completed\"].map(education_mapping)"
   ]
  },
  {
   "cell_type": "code",
   "execution_count": 321,
   "metadata": {},
   "outputs": [],
   "source": [
    "# Drop 'Region' and 'Household_Head_Occupation'\n",
    "df = df.drop(['Region', 'Household_Head_Occupation'], axis=1)"
   ]
  },
  {
   "cell_type": "markdown",
   "metadata": {},
   "source": [
    "## Converting Binary Categorical Variables into Binary Numerical Variables"
   ]
  },
  {
   "cell_type": "code",
   "execution_count": 322,
   "metadata": {},
   "outputs": [],
   "source": [
    "df['Household_Head_Sex'] = df['Household_Head_Sex'].map({'Female': 0, 'Male' : 1})"
   ]
  },
  {
   "cell_type": "code",
   "execution_count": 323,
   "metadata": {},
   "outputs": [],
   "source": [
    "df['Household_Head_Job_or_Business_Indicator'] = df['Household_Head_Job_or_Business_Indicator'].map({'No Job/Business': 0, 'With Job/Business' : 1})"
   ]
  },
  {
   "cell_type": "markdown",
   "metadata": {},
   "source": [
    "## OneHotEncoding Categorical Variables"
   ]
  },
  {
   "cell_type": "markdown",
   "metadata": {},
   "source": [
    "### Pseudocode for OneHotEncoding\n",
    "\n",
    "* Initiate a new df (pre_encoded_df) \n",
    "* Get all the categorical features in the main df and append them to pre_encoded_df\n",
    "* df_encoded = pd.get_dummies(df, dtype=int)\n",
    "* concat df_encoded with main df\n",
    "* For every categorical features in object fields...\n",
    "  * Drop it from the main df"
   ]
  },
  {
   "cell_type": "code",
   "execution_count": 324,
   "metadata": {},
   "outputs": [],
   "source": [
    "pre_encoded_df = pd.DataFrame()\n",
    "\n",
    "# Get a list of all categorical features in df\n",
    "object_fields = df.select_dtypes(include=['object']).columns.tolist()\n",
    "\n",
    "# Append all the features in object_fields into 'pre_encooded_df'\n",
    "for column in object_fields:\n",
    "    pre_encoded_df[column] = df[column]\n",
    "\n",
    "# pre_encoded_df\n",
    "\n",
    "df_encoded = pd.get_dummies(pre_encoded_df, dtype=int)\n",
    "\n",
    "for col in df_encoded.columns:\n",
    "  new_col = col.replace(' ', '_')\n",
    "  df_encoded.rename(columns={col:new_col}, inplace=True)\n",
    "\n",
    "df = pd.concat([df, df_encoded], axis=1)\n",
    "\n",
    "for column in object_fields:\n",
    "  df = df.drop([column], axis=1)"
   ]
  },
  {
   "cell_type": "markdown",
   "metadata": {},
   "source": [
    "## Saving Final Dataset into New CSV File"
   ]
  },
  {
   "cell_type": "code",
   "execution_count": 325,
   "metadata": {},
   "outputs": [],
   "source": [
    "df.to_csv('data/Family_Income_and_Expenditure_Revised.csv', index=False)"
   ]
  },
  {
   "cell_type": "markdown",
   "metadata": {
    "id": "oV2LZsQ3k9vT"
   },
   "source": [
    "## Trash Code Lines Below (consider deleting)"
   ]
  },
  {
   "cell_type": "code",
   "execution_count": 36,
   "metadata": {},
   "outputs": [
    {
     "data": {
      "text/html": [
       "<div>\n",
       "<style scoped>\n",
       "    .dataframe tbody tr th:only-of-type {\n",
       "        vertical-align: middle;\n",
       "    }\n",
       "\n",
       "    .dataframe tbody tr th {\n",
       "        vertical-align: top;\n",
       "    }\n",
       "\n",
       "    .dataframe thead th {\n",
       "        text-align: right;\n",
       "    }\n",
       "</style>\n",
       "<table border=\"1\" class=\"dataframe\">\n",
       "  <thead>\n",
       "    <tr style=\"text-align: right;\">\n",
       "      <th></th>\n",
       "      <th>Total_Household_Income</th>\n",
       "      <th>Total_Food_Expenditure</th>\n",
       "      <th>Main_Source_of_Income</th>\n",
       "      <th>Agricultural_Household_indicator</th>\n",
       "      <th>Bread_and_Cereals_Expenditure</th>\n",
       "      <th>Total_Rice_Expenditure</th>\n",
       "      <th>Meat_Expenditure</th>\n",
       "      <th>Total_Fish_and__marine_products_Expenditure</th>\n",
       "      <th>Fruit_Expenditure</th>\n",
       "      <th>Vegetables_Expenditure</th>\n",
       "      <th>...</th>\n",
       "      <th>Number_of_Car,_Jeep,_Van</th>\n",
       "      <th>Number_of_Landline/wireless_telephones</th>\n",
       "      <th>Number_of_Cellular_phone</th>\n",
       "      <th>Number_of_Personal_Computer</th>\n",
       "      <th>Number_of_Stove_with_Oven/Gas_Range</th>\n",
       "      <th>Number_of_Motorized_Banca</th>\n",
       "      <th>Number_of_Motorcycle/Tricycle</th>\n",
       "      <th>Average_Income_per_Capita</th>\n",
       "      <th>Main_Source_of_Water_Supply_Generalized</th>\n",
       "      <th>Average_Income_per_Occupation_Group</th>\n",
       "    </tr>\n",
       "  </thead>\n",
       "  <tbody>\n",
       "    <tr>\n",
       "      <th>0</th>\n",
       "      <td>11285</td>\n",
       "      <td>14709</td>\n",
       "      <td>Other sources of Income</td>\n",
       "      <td>1</td>\n",
       "      <td>4690</td>\n",
       "      <td>91</td>\n",
       "      <td>248</td>\n",
       "      <td>1759</td>\n",
       "      <td>236</td>\n",
       "      <td>1335</td>\n",
       "      <td>...</td>\n",
       "      <td>0</td>\n",
       "      <td>0</td>\n",
       "      <td>0</td>\n",
       "      <td>0</td>\n",
       "      <td>0</td>\n",
       "      <td>0</td>\n",
       "      <td>0</td>\n",
       "      <td>234909.31</td>\n",
       "      <td>Well</td>\n",
       "      <td>152836.44</td>\n",
       "    </tr>\n",
       "    <tr>\n",
       "      <th>1</th>\n",
       "      <td>11988</td>\n",
       "      <td>6781</td>\n",
       "      <td>Other sources of Income</td>\n",
       "      <td>0</td>\n",
       "      <td>4175</td>\n",
       "      <td>4175</td>\n",
       "      <td>930</td>\n",
       "      <td>360</td>\n",
       "      <td>581</td>\n",
       "      <td>525</td>\n",
       "      <td>...</td>\n",
       "      <td>0</td>\n",
       "      <td>0</td>\n",
       "      <td>0</td>\n",
       "      <td>0</td>\n",
       "      <td>0</td>\n",
       "      <td>0</td>\n",
       "      <td>0</td>\n",
       "      <td>269540.48</td>\n",
       "      <td>Natural Source</td>\n",
       "      <td>285022.93</td>\n",
       "    </tr>\n",
       "    <tr>\n",
       "      <th>2</th>\n",
       "      <td>12039</td>\n",
       "      <td>9465</td>\n",
       "      <td>Other sources of Income</td>\n",
       "      <td>0</td>\n",
       "      <td>3176</td>\n",
       "      <td>3041</td>\n",
       "      <td>150</td>\n",
       "      <td>1410</td>\n",
       "      <td>336</td>\n",
       "      <td>241</td>\n",
       "      <td>...</td>\n",
       "      <td>0</td>\n",
       "      <td>0</td>\n",
       "      <td>0</td>\n",
       "      <td>0</td>\n",
       "      <td>0</td>\n",
       "      <td>0</td>\n",
       "      <td>0</td>\n",
       "      <td>186105.49</td>\n",
       "      <td>Shared Source</td>\n",
       "      <td>152836.44</td>\n",
       "    </tr>\n",
       "    <tr>\n",
       "      <th>3</th>\n",
       "      <td>12141</td>\n",
       "      <td>6500</td>\n",
       "      <td>Other sources of Income</td>\n",
       "      <td>0</td>\n",
       "      <td>1851</td>\n",
       "      <td>1140</td>\n",
       "      <td>1310</td>\n",
       "      <td>1318</td>\n",
       "      <td>330</td>\n",
       "      <td>560</td>\n",
       "      <td>...</td>\n",
       "      <td>0</td>\n",
       "      <td>0</td>\n",
       "      <td>0</td>\n",
       "      <td>0</td>\n",
       "      <td>0</td>\n",
       "      <td>0</td>\n",
       "      <td>0</td>\n",
       "      <td>236778.22</td>\n",
       "      <td>Shared Source</td>\n",
       "      <td>285022.93</td>\n",
       "    </tr>\n",
       "    <tr>\n",
       "      <th>4</th>\n",
       "      <td>12911</td>\n",
       "      <td>15909</td>\n",
       "      <td>Enterpreneurial Activities</td>\n",
       "      <td>1</td>\n",
       "      <td>6716</td>\n",
       "      <td>96</td>\n",
       "      <td>1030</td>\n",
       "      <td>3316</td>\n",
       "      <td>285</td>\n",
       "      <td>1831</td>\n",
       "      <td>...</td>\n",
       "      <td>0</td>\n",
       "      <td>0</td>\n",
       "      <td>0</td>\n",
       "      <td>0</td>\n",
       "      <td>0</td>\n",
       "      <td>0</td>\n",
       "      <td>0</td>\n",
       "      <td>234909.31</td>\n",
       "      <td>Shared Source</td>\n",
       "      <td>168933.22</td>\n",
       "    </tr>\n",
       "  </tbody>\n",
       "</table>\n",
       "<p>5 rows × 61 columns</p>\n",
       "</div>"
      ],
      "text/plain": [
       "   Total_Household_Income  Total_Food_Expenditure       Main_Source_of_Income  \\\n",
       "0                   11285                   14709     Other sources of Income   \n",
       "1                   11988                    6781     Other sources of Income   \n",
       "2                   12039                    9465     Other sources of Income   \n",
       "3                   12141                    6500     Other sources of Income   \n",
       "4                   12911                   15909  Enterpreneurial Activities   \n",
       "\n",
       "   Agricultural_Household_indicator  Bread_and_Cereals_Expenditure  \\\n",
       "0                                 1                           4690   \n",
       "1                                 0                           4175   \n",
       "2                                 0                           3176   \n",
       "3                                 0                           1851   \n",
       "4                                 1                           6716   \n",
       "\n",
       "   Total_Rice_Expenditure  Meat_Expenditure  \\\n",
       "0                      91               248   \n",
       "1                    4175               930   \n",
       "2                    3041               150   \n",
       "3                    1140              1310   \n",
       "4                      96              1030   \n",
       "\n",
       "   Total_Fish_and__marine_products_Expenditure  Fruit_Expenditure  \\\n",
       "0                                         1759                236   \n",
       "1                                          360                581   \n",
       "2                                         1410                336   \n",
       "3                                         1318                330   \n",
       "4                                         3316                285   \n",
       "\n",
       "   Vegetables_Expenditure  ...  Number_of_Car,_Jeep,_Van  \\\n",
       "0                    1335  ...                         0   \n",
       "1                     525  ...                         0   \n",
       "2                     241  ...                         0   \n",
       "3                     560  ...                         0   \n",
       "4                    1831  ...                         0   \n",
       "\n",
       "   Number_of_Landline/wireless_telephones  Number_of_Cellular_phone  \\\n",
       "0                                       0                         0   \n",
       "1                                       0                         0   \n",
       "2                                       0                         0   \n",
       "3                                       0                         0   \n",
       "4                                       0                         0   \n",
       "\n",
       "   Number_of_Personal_Computer  Number_of_Stove_with_Oven/Gas_Range  \\\n",
       "0                            0                                    0   \n",
       "1                            0                                    0   \n",
       "2                            0                                    0   \n",
       "3                            0                                    0   \n",
       "4                            0                                    0   \n",
       "\n",
       "   Number_of_Motorized_Banca  Number_of_Motorcycle/Tricycle  \\\n",
       "0                          0                              0   \n",
       "1                          0                              0   \n",
       "2                          0                              0   \n",
       "3                          0                              0   \n",
       "4                          0                              0   \n",
       "\n",
       "   Average_Income_per_Capita  Main_Source_of_Water_Supply_Generalized  \\\n",
       "0                  234909.31                                     Well   \n",
       "1                  269540.48                           Natural Source   \n",
       "2                  186105.49                            Shared Source   \n",
       "3                  236778.22                            Shared Source   \n",
       "4                  234909.31                            Shared Source   \n",
       "\n",
       "   Average_Income_per_Occupation_Group  \n",
       "0                            152836.44  \n",
       "1                            285022.93  \n",
       "2                            152836.44  \n",
       "3                            285022.93  \n",
       "4                            168933.22  \n",
       "\n",
       "[5 rows x 61 columns]"
      ]
     },
     "execution_count": 36,
     "metadata": {},
     "output_type": "execute_result"
    }
   ],
   "source": [
    "df.head()"
   ]
  },
  {
   "cell_type": "code",
   "execution_count": 37,
   "metadata": {},
   "outputs": [
    {
     "data": {
      "text/plain": [
       "['Main_Source_of_Income',\n",
       " 'Household_Head_Sex',\n",
       " 'Household_Head_Marital_Status',\n",
       " 'Household_Head_Highest_Grade_Completed',\n",
       " 'Household_Head_Job_or_Business_Indicator',\n",
       " 'Household_Head_Class_of_Worker',\n",
       " 'Type_of_Household',\n",
       " 'Type_of_Building/House',\n",
       " 'Type_of_Roof',\n",
       " 'Type_of_Walls',\n",
       " 'Tenure_Status',\n",
       " 'Toilet_Facilities',\n",
       " 'Main_Source_of_Water_Supply',\n",
       " 'Main_Source_of_Water_Supply_Generalized']"
      ]
     },
     "execution_count": 37,
     "metadata": {},
     "output_type": "execute_result"
    }
   ],
   "source": [
    "# Getting all object fields in df (categorical feature)\n",
    "object_fields = df.select_dtypes(include=['object']).columns.tolist()\n",
    "object_fields"
   ]
  },
  {
   "cell_type": "code",
   "execution_count": null,
   "metadata": {
    "id": "orJEsekTxu3w"
   },
   "outputs": [],
   "source": [
    "# Define categorical variables\n",
    "categorical_variables_list = ['Region', 'Main Source of Income', 'Agricultural Household indicator', 'Household Head Sex', 'Household Head Marital Status', 'Household Head Highest Grade Completed', 'Household Head Occupation', 'Household Head Class of Worker', 'Type of Household', 'Type of Building/House', 'Type of Roof', 'Type of Walls', 'Tenure Status', 'Toilet Facilities', 'Main Source of Water Supply']\n",
    "# OneHotEncoding some of these categorical variables might result into 'curse of dimensionality'\n",
    "# Some categorical values in this dataset have a lot of categories\n",
    "\n",
    "# Should we use PCA in these categorical values?\n",
    "# Another issue we will bring up: Incomplete records\n",
    "# By dropping the incomplete records with dropna() function, are we misrepresenting the data?\n",
    "# We only dropped like 8956 records with the method"
   ]
  },
  {
   "cell_type": "code",
   "execution_count": null,
   "metadata": {},
   "outputs": [],
   "source": [
    "# # Getting all the new object fields in df (categorical feature)\n",
    "# object_fields = df.select_dtypes(include=['object']).columns.tolist()\n",
    "\n",
    "# # Create a dictionary to store field names and their category counts\n",
    "# category_counts = {field: df[field].nunique() for field in object_fields}\n",
    "\n",
    "# # Convert the dictionary into a DataFrame\n",
    "# category_counts_df = pd.DataFrame(list(category_counts.items()), columns=['Field', 'Number_of_Categories'])\n",
    "\n",
    "# # Display the resulting DataFrame\n",
    "# category_counts_df"
   ]
  },
  {
   "cell_type": "markdown",
   "metadata": {
    "id": "Hexf_n3L1jRu"
   },
   "source": [
    "Links:\n",
    "https://www.datacamp.com/tutorial/one-hot-encoding-python-tutorial\n"
   ]
  }
 ],
 "metadata": {
  "colab": {
   "authorship_tag": "ABX9TyN3k4RWa4WigbL3tkzBsLAJ",
   "collapsed_sections": [
    "H0UeDvpKlUzy",
    "Uv2Y_7lBlGaS",
    "oV2LZsQ3k9vT"
   ],
   "provenance": []
  },
  "kernelspec": {
   "display_name": ".venv",
   "language": "python",
   "name": "python3"
  },
  "language_info": {
   "codemirror_mode": {
    "name": "ipython",
    "version": 3
   },
   "file_extension": ".py",
   "mimetype": "text/x-python",
   "name": "python",
   "nbconvert_exporter": "python",
   "pygments_lexer": "ipython3",
   "version": "3.12.4"
  }
 },
 "nbformat": 4,
 "nbformat_minor": 0
}
